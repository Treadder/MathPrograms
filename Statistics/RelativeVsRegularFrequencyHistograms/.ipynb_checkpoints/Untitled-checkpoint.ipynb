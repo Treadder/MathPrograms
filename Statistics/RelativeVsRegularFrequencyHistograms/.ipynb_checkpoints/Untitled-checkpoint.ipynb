{
 "cells": [
  {
   "cell_type": "markdown",
   "metadata": {},
   "source": [
    "***\n",
    "**Relative vs Regular Frequency Histogram Analysis**\n",
    "***\n",
    "\n",
    "*By Jared Kelnhofer, 10-01-2020*"
   ]
  },
  {
   "cell_type": "markdown",
   "metadata": {},
   "source": [
    "**<font size=\"5\">Goal/Definitions:</font>**\n",
    "\n",
    "The goal of this project is to find out whether or not a relative frequency distribution of a given dataset will look different than a regular frequency distribution of that dataset, when plotted as a histogram. My hypothesis is that the relative frequency histogram will look the same as the regular frequency histogram with regards to the ratio of the heights of the bars. By this, I mean that the graph might stretch or shrink vertically, but overall, the relationships between the class frequencies should be the same. Of course, I could just do this on paper, but this is more interesting.\n",
    "\n",
    "First, I'd better get some terms out of the way. \n",
    "\n",
    "The **frequency** of a given class is defined as the amount of times that class occurs in the dataset. If I have a bag of fruit, and thereare 3 oranges in the bag, than the class \"orange\" has a frequency of 3.\n",
    "\n",
    "The **relative frequency** of a class is defined as the percentage that class takes up of the dataset. If my fruit bag has 12 fruit in it, and only 3 of those fruit are oranges, than the relative frequency of the oranges is 25%. (The formula for calculating the relative frequency of a class is simple: take the number of times that a class occurred, and divide it by the total size of the dataset. Then divide that number by 100.) \n",
    "\n",
    "We're just turning a fraction into a decimal, which is one reason for my hypothesis that the relationship between classes will remain the same -- we're saying, \"Well I know how much this class takes up out of my dataset, but if the dataset was of size 100 how much would take up?\" We're changing the container size, but not the underlying information in my view."
   ]
  },
  {
   "cell_type": "code",
   "execution_count": 1,
   "metadata": {},
   "outputs": [],
   "source": [
    "import matplotlib.pyplot as plt\n",
    "import pandas as pd\n",
    "import numpy as np"
   ]
  },
  {
   "cell_type": "markdown",
   "metadata": {},
   "source": [
    "I'll create a generate_dataset function which generates a dataset of random whole numbers within a range. Each unique number is treated as it's own class. If I have two 7's in the dataset, than the frequency of the \"7\" class is 2.\n",
    "\n",
    "I'll also make a get_class_frequencies method, which takes a dataset, and returns an array containing the counts of each class at that index. So if you want to know how many times \"2\" showed up in your dataset, go check out the get_class array at index 2."
   ]
  },
  {
   "cell_type": "code",
   "execution_count": 2,
   "metadata": {},
   "outputs": [],
   "source": [
    "def generate_dataset(class_count, dataset_size):\n",
    "    dataset = np.random.randint(low=0, high=class_count, size=dataset_size)\n",
    "    return dataset\n",
    " \n",
    "def get_class_frequencies(dataset, class_count):\n",
    "    encountered_classes = []\n",
    "    class_counts = np.zeros(class_count)\n",
    "    \n",
    "    for i in range(0, dataset.size):# using a \"for in\" didn't work here when I iterated over dataset. Why?\n",
    "        \n",
    "        #verbosity\n",
    "        #print(\"iteration!\")\n",
    "        #print(\"encountered_classes is: \" + str(encountered_classes))#\n",
    "        #print(\"class_counts is: \" + str(class_counts))\n",
    "        #print(\"reading a \" + str(i))\n",
    "        #print(\"\")\n",
    "      \n",
    "        \n",
    "        if dataset[i] in encountered_classes:\n",
    "            class_counts[dataset[i]]+=1\n",
    "        else:\n",
    "            encountered_classes.append(dataset[i])\n",
    "            class_counts[dataset[i]]+=1\n",
    "    \n",
    "    return class_counts"
   ]
  },
  {
   "cell_type": "markdown",
   "metadata": {},
   "source": [
    "Testing the dataset creation and frequency counting methods:"
   ]
  },
  {
   "cell_type": "code",
   "execution_count": 3,
   "metadata": {},
   "outputs": [
    {
     "name": "stdout",
     "output_type": "stream",
     "text": [
      "dataset:\n",
      "[1 3 0 1 3 1 3 3 1 3 2 1 3 3 1 0 2 0 0 2]\n",
      "\n",
      "frequencies\n",
      "[4. 6. 3. 7.]\n"
     ]
    }
   ],
   "source": [
    "num_classes = 4\n",
    "dataset_size = 20\n",
    "\n",
    "my_dataset = generate_dataset(num_classes, dataset_size)\n",
    "print(\"dataset:\")\n",
    "print(my_dataset)\n",
    "print(\"\")\n",
    "\n",
    "my_frequencies = get_class_frequencies(my_dataset, num_classes)\n",
    "print(\"frequencies\")\n",
    "print(my_frequencies)"
   ]
  },
  {
   "cell_type": "markdown",
   "metadata": {},
   "source": [
    "Cool, the data generation is working! Now I'll plot a histogram of the frequencies!"
   ]
  },
  {
   "cell_type": "code",
   "execution_count": 4,
   "metadata": {},
   "outputs": [
    {
     "data": {
      "text/plain": [
       "(array([1., 0., 1., 0., 0., 0., 0., 1., 0., 1.]),\n",
       " array([3. , 3.4, 3.8, 4.2, 4.6, 5. , 5.4, 5.8, 6.2, 6.6, 7. ]),\n",
       " <a list of 10 Patch objects>)"
      ]
     },
     "execution_count": 4,
     "metadata": {},
     "output_type": "execute_result"
    },
    {
     "data": {
      "image/png": "[encoded data removed]",
      "text/plain": [
       "<Figure size 432x288 with 1 Axes>"
      ]
     },
     "metadata": {
      "needs_background": "light"
     },
     "output_type": "display_data"
    }
   ],
   "source": [
    "plt.hist(my_frequencies)   # <---- bad!  TODO\n",
    "#plt.hist(my_dataset) actually works. Make a new hist method bucko!"
   ]
  },
  {
   "cell_type": "markdown",
   "metadata": {},
   "source": [
    "Now I'll make a method transform my frequency values to be relative frequencies so I can compare the histograms."
   ]
  },
  {
   "cell_type": "code",
   "execution_count": 7,
   "metadata": {},
   "outputs": [],
   "source": [
    "def convert_to_relative_frequencies(frequencies):\n",
    "    \n",
    "    relative_frequency_array = []\n",
    "    total_values = 0\n",
    "    \n",
    "    for i in range (0, frequencies.size):\n",
    "        total_values += frequencies[i]\n",
    "    \n",
    "    for i in range (0, frequencies.size):\n",
    "        relative_frequency_array.append((frequencies[i] / total_values) * 100)\n",
    "        \n",
    "    return relative_frequency_array"
   ]
  },
  {
   "cell_type": "markdown",
   "metadata": {},
   "source": [
    "And now a test of the method. The relative frequencies should add to 100. "
   ]
  },
  {
   "cell_type": "code",
   "execution_count": 10,
   "metadata": {},
   "outputs": [
    {
     "name": "stdout",
     "output_type": "stream",
     "text": [
      "relative frequencies: [20.0, 30.0, 15.0, 35.0]\n"
     ]
    }
   ],
   "source": [
    "my_relative_frequencies = convert_to_relative_frequencies(my_frequencies)\n",
    "print(\"relative frequencies: \" + str(my_relative_frequencies))"
   ]
  },
  {
   "cell_type": "code",
   "execution_count": 11,
   "metadata": {},
   "outputs": [
    {
     "data": {
      "text/plain": [
       "(array([1., 0., 1., 0., 0., 0., 0., 1., 0., 1.]),\n",
       " array([15., 17., 19., 21., 23., 25., 27., 29., 31., 33., 35.]),\n",
       " <a list of 10 Patch objects>)"
      ]
     },
     "execution_count": 11,
     "metadata": {},
     "output_type": "execute_result"
    },
    {
     "data": {
      "image/png": "[encoded data removed]",
      "text/plain": [
       "<Figure size 432x288 with 1 Axes>"
      ]
     },
     "metadata": {
      "needs_background": "light"
     },
     "output_type": "display_data"
    }
   ],
   "source": [
    "plt.hist(my_relative_frequencies)   # <---- bad! TODO"
   ]
  },
  {
   "cell_type": "markdown",
   "metadata": {},
   "source": [
    "Now I'll graph both of the frequency distributions side by side with some pretty labels and (maybe) sizing for comparison:"
   ]
  },
  {
   "cell_type": "code",
   "execution_count": 13,
   "metadata": {},
   "outputs": [
    {
     "data": {
      "text/plain": [
       "(array([1., 0., 1., 0., 0., 0., 0., 1., 0., 1.]),\n",
       " array([15., 17., 19., 21., 23., 25., 27., 29., 31., 33., 35.]),\n",
       " <a list of 10 Patch objects>)"
      ]
     },
     "execution_count": 13,
     "metadata": {},
     "output_type": "execute_result"
    },
    {
     "data": {
      "image/png": "[encoded data removed]",
      "text/plain": [
       "<Figure size 432x288 with 1 Axes>"
      ]
     },
     "metadata": {
      "needs_background": "light"
     },
     "output_type": "display_data"
    }
   ],
   "source": [
    "#make a new figure for inline stuff.\n",
    "plt.hist(my_relative_frequencies)   # <---- bad! TODO"
   ]
  },
  {
   "cell_type": "markdown",
   "metadata": {},
   "source": [
    "From looking at the two graphs, we can determine that ............................. I ran the test x times to make sure that this was true. Here's something that you can use to do that as well:"
   ]
  },
  {
   "cell_type": "code",
   "execution_count": null,
   "metadata": {},
   "outputs": [],
   "source": [
    "def run_a_lot_of_tests(num_tests):\n",
    "    #TODO"
   ]
  },
  {
   "cell_type": "markdown",
   "metadata": {},
   "source": [
    "The end!"
   ]
  }
 ],
 "metadata": {
  "kernelspec": {
   "display_name": "Python 3",
   "language": "python",
   "name": "python3"
  },
  "language_info": {
   "codemirror_mode": {
    "name": "ipython",
    "version": 3
   },
   "file_extension": ".py",
   "mimetype": "text/x-python",
   "name": "python",
   "nbconvert_exporter": "python",
   "pygments_lexer": "ipython3",
   "version": "3.8.3"
  }
 },
 "nbformat": 4,
 "nbformat_minor": 4
}
